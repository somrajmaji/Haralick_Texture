{
  "nbformat": 4,
  "nbformat_minor": 0,
  "metadata": {
    "colab": {
      "name": "Haralick_Texture.ipynb",
      "provenance": [],
      "authorship_tag": "ABX9TyOsSyXUsQfoB6sMMT1JwTpD"
    },
    "kernelspec": {
      "name": "python3",
      "display_name": "Python 3"
    },
    "language_info": {
      "name": "python"
    }
  },
  "cells": [
    {
      "cell_type": "code",
      "metadata": {
        "colab": {
          "base_uri": "https://localhost:8080/"
        },
        "id": "Nj6VWI7x8aPh",
        "outputId": "7e3b019b-9a53-4f5d-b5f0-e743877ccc2a"
      },
      "source": [
        "!pip install mahotas"
      ],
      "execution_count": 2,
      "outputs": [
        {
          "output_type": "stream",
          "text": [
            "Collecting mahotas\n",
            "\u001b[?25l  Downloading https://files.pythonhosted.org/packages/19/ad/553b246b0a35dccc3ed58dc8889a67124bf5ab858e9c6b7255d56086e70c/mahotas-1.4.11-cp37-cp37m-manylinux2010_x86_64.whl (5.7MB)\n",
            "\u001b[K     |████████████████████████████████| 5.7MB 5.9MB/s \n",
            "\u001b[?25hRequirement already satisfied: numpy in /usr/local/lib/python3.7/dist-packages (from mahotas) (1.19.5)\n",
            "Installing collected packages: mahotas\n",
            "Successfully installed mahotas-1.4.11\n"
          ],
          "name": "stdout"
        }
      ]
    },
    {
      "cell_type": "code",
      "metadata": {
        "id": "t7F_73oJk2FV"
      },
      "source": [
        "import cv2\n",
        "import numpy as np\n",
        "import os\n",
        "import glob\n",
        "import mahotas as mt\n",
        "from sklearn.svm import LinearSVC\n",
        "from sklearn.linear_model import LogisticRegression\n",
        "from google.colab.patches import cv2_imshow"
      ],
      "execution_count": 14,
      "outputs": []
    },
    {
      "cell_type": "markdown",
      "metadata": {
        "id": "tEI0MImTmBOi"
      },
      "source": [
        "Load the Training.zip folder \n",
        "Unzip the file using the command - !unzip /content/Training.zip\n"
      ]
    },
    {
      "cell_type": "code",
      "metadata": {
        "id": "JRhU1TdemSxH"
      },
      "source": [
        "features = []\n",
        "labels=[]\n"
      ],
      "execution_count": 15,
      "outputs": []
    },
    {
      "cell_type": "code",
      "metadata": {
        "id": "JF3PBIbHmYHW"
      },
      "source": [
        "##Loading the images from the Training Folder and selecting only .png\" ##\n",
        "for imagePath in glob.glob(\"/content/Training\" + \"/*.png\"):\n",
        "  image = cv2.imread(imagePath)\n",
        "  ## Converting the image to Grayscale ##\n",
        "  image1 = cv2.cvtColor(image,cv2.COLOR_BGR2GRAY)\n",
        "  ## Now extracting the Labels of the image from the name of the image, eg; from carpet_01.png extracting labels as \"carpet\" ##\n",
        "  label = imagePath[imagePath.rfind(\"/\") + 1:].split(\"_\")[0]\n",
        "  ## Now extracting the Texture Feature using Mahatos package and taking the mean ##\n",
        "  ## Getting the GLCM ##\n",
        "  feature = mt.features.haralick(image1).mean(axis=0)\n",
        "  ## Now updating GLCM Feature as an array##\n",
        "  features.append(feature)\n",
        "  ## Updating Label as an array##\n",
        "  labels.append(label)"
      ],
      "execution_count": 19,
      "outputs": []
    },
    {
      "cell_type": "code",
      "metadata": {
        "id": "eEoABLep9XyG"
      },
      "source": [
        "print(features)"
      ],
      "execution_count": null,
      "outputs": []
    },
    {
      "cell_type": "code",
      "metadata": {
        "colab": {
          "base_uri": "https://localhost:8080/"
        },
        "id": "IF5vWHPt-NJW",
        "outputId": "95b169a6-1b91-4762-fea6-f9746fb3ce84"
      },
      "source": [
        "print(labels)"
      ],
      "execution_count": 21,
      "outputs": [
        {
          "output_type": "stream",
          "text": [
            "['carpet', 'tablecloth', 'laminate-flooring', 'laminate-flooring', 'laminate-flooring', 'tablecloth', 'laminate-flooring', 'tablecloth', 'wallpaper', 'wallpaper', 'carpet', 'wallpaper', 'carpet', 'tablecloth', 'wallpaper', 'carpet']\n"
          ],
          "name": "stdout"
        }
      ]
    },
    {
      "cell_type": "code",
      "metadata": {
        "id": "8F6YtFKS7TYw",
        "outputId": "f74d75e3-35f8-4783-e1a1-2124f660f128",
        "colab": {
          "base_uri": "https://localhost:8080/"
        }
      },
      "source": [
        "features=np.array(features)\n",
        "features.reshape(1,-1)\n",
        "features.shape"
      ],
      "execution_count": 29,
      "outputs": [
        {
          "output_type": "execute_result",
          "data": {
            "text/plain": [
              "(16, 13)"
            ]
          },
          "metadata": {
            "tags": []
          },
          "execution_count": 29
        }
      ]
    },
    {
      "cell_type": "code",
      "metadata": {
        "id": "T-YsYfwK7u_2",
        "outputId": "bbf30795-6044-46ae-f0cd-8c7d9b80705c",
        "colab": {
          "base_uri": "https://localhost:8080/"
        }
      },
      "source": [
        "labels=np.array(labels)\n",
        "labels.shape"
      ],
      "execution_count": 30,
      "outputs": [
        {
          "output_type": "execute_result",
          "data": {
            "text/plain": [
              "(16,)"
            ]
          },
          "metadata": {
            "tags": []
          },
          "execution_count": 30
        }
      ]
    },
    {
      "cell_type": "code",
      "metadata": {
        "id": "NuZsYcjRtjSi"
      },
      "source": [
        "## Now the GLCM features of each texture and its labels has been segregated##\n",
        "## Now will use Logistic Regression ##\n",
        "lt=LogisticRegression(dual=False,solver='lbfgs',max_iter=1200000)\n",
        "model = lt.fit(features,labels)"
      ],
      "execution_count": 41,
      "outputs": []
    },
    {
      "cell_type": "markdown",
      "metadata": {
        "id": "DRg41KjtyEIz"
      },
      "source": [
        "# **## Now we have Got a Model using Traing Textures using Haralick Features and Labelling Them ##**\n",
        "\n",
        "# **## Now we need to test the Model using the Testing Textures ###**"
      ]
    },
    {
      "cell_type": "markdown",
      "metadata": {
        "id": "b-HuYKDhypcs"
      },
      "source": [
        "## Now we need to again Load the Testing Folder for testing fo the Model ##"
      ]
    },
    {
      "cell_type": "code",
      "metadata": {
        "colab": {
          "base_uri": "https://localhost:8080/",
          "height": 130
        },
        "id": "0rrWiap1zQSu",
        "outputId": "159d4fe9-5c7c-4386-8af0-625edbf6ffa8"
      },
      "source": [
        "##Loading the images from the Testing Folder and selecting only .png\" ##\n",
        "for TestimagePath in glob.glob(\"/content/Testing\" + \"/*.png\"):\n",
        "  Testimage = cv2.imread(TestimagePath)\n",
        "  ## Converting the image to Grayscale ##\n",
        "  Gray = cv2.cvtColor(Testimage,cv2.COLOR_BGR2GRAY)\n",
        "  ## Now extracting the Texture Feature using Mahatos package and taking the mean ##\n",
        "  ## Getting the GLCM ##\n",
        "  TestFeature = mt.features.haralick(Gray).mean(axis=0)\n",
        "  # classify the test image\n",
        "   pred = model.predict(TestFeature.reshape(1, -1))[0]  \n",
        "\tcv2.putText(Testimage, pred, (20, 30), cv2.FONT_HERSHEY_SIMPLEX, 1.0,\n",
        "\t\t(0, 255, 0), 3)\n",
        "\n",
        "\t# show the output image\n",
        "\tcv2_imshow(Testimage)"
      ],
      "execution_count": 42,
      "outputs": [
        {
          "output_type": "error",
          "ename": "IndentationError",
          "evalue": "ignored",
          "traceback": [
            "\u001b[0;36m  File \u001b[0;32m\"<ipython-input-42-b4cf79cd3d77>\"\u001b[0;36m, line \u001b[0;32m10\u001b[0m\n\u001b[0;31m    pred = model.predict(TestFeature.reshape(1, -1))[0]\u001b[0m\n\u001b[0m    ^\u001b[0m\n\u001b[0;31mIndentationError\u001b[0m\u001b[0;31m:\u001b[0m unexpected indent\n"
          ]
        }
      ]
    }
  ]
}