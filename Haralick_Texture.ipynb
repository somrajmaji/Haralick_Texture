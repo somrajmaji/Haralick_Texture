{
  "nbformat": 4,
  "nbformat_minor": 0,
  "metadata": {
    "colab": {
      "name": "Haralick_Texture.ipynb",
      "provenance": [],
      "authorship_tag": "ABX9TyM8fEUr4W/d4I/SEBeEwodc"
    },
    "kernelspec": {
      "name": "python3",
      "display_name": "Python 3"
    },
    "language_info": {
      "name": "python"
    }
  },
  "cells": [
    {
      "cell_type": "code",
      "metadata": {
        "id": "Nj6VWI7x8aPh"
      },
      "source": [
        "!pip install mahotas"
      ],
      "execution_count": null,
      "outputs": []
    },
    {
      "cell_type": "code",
      "metadata": {
        "id": "t7F_73oJk2FV"
      },
      "source": [
        "import cv2\n",
        "import numpy as np\n",
        "import os\n",
        "import glob\n",
        "import mahotas as mt\n",
        "from sklearn.svm import LinearSVC\n",
        "from sklearn.linear_model import LogisticRegression\n",
        "from google.colab.patches import cv2_imshow"
      ],
      "execution_count": 13,
      "outputs": []
    },
    {
      "cell_type": "markdown",
      "metadata": {
        "id": "tEI0MImTmBOi"
      },
      "source": [
        "Load the Training.zip folder \n",
        "Unzip the file using the command - !unzip /content/Training.zip\n"
      ]
    },
    {
      "cell_type": "code",
      "metadata": {
        "id": "JRhU1TdemSxH"
      },
      "source": [
        "features = []\n",
        "labels=[]\n"
      ],
      "execution_count": 14,
      "outputs": []
    },
    {
      "cell_type": "code",
      "metadata": {
        "id": "JF3PBIbHmYHW"
      },
      "source": [
        "##Loading the images from the Training Folder and selecting only .png\" ##\n",
        "for imagePath in glob.glob(\"/content/Training\" + \"/*.png\"):\n",
        "  image = cv2.imread(imagePath)\n",
        "  ## Converting the image to Grayscale ##\n",
        "  image1 = cv2.cvtColor(image,cv2.COLOR_BGR2GRAY)\n",
        "  ## Now extracting the Labels of the image from the name of the image, eg; from carpet_01.png extracting labels as \"carpet\" ##\n",
        "  label = imagePath[imagePath.rfind(\"/\") + 1:].split(\"_\")[0]\n",
        "  ## Now extracting the Texture Feature using Mahatos package and taking the mean ##\n",
        "  ## Getting the GLCM ##\n",
        "  feature = mt.features.haralick(image1).mean(axis=0)\n",
        "  ## Now updating GLCM Feature as an array##\n",
        "  features.append(feature)\n",
        "  ## Updating Label as an array##\n",
        "  labels.append(label)"
      ],
      "execution_count": 15,
      "outputs": []
    },
    {
      "cell_type": "code",
      "metadata": {
        "id": "eEoABLep9XyG"
      },
      "source": [
        "print(features)"
      ],
      "execution_count": null,
      "outputs": []
    },
    {
      "cell_type": "code",
      "metadata": {
        "id": "IF5vWHPt-NJW"
      },
      "source": [
        "print(labels)"
      ],
      "execution_count": null,
      "outputs": []
    },
    {
      "cell_type": "code",
      "metadata": {
        "id": "NuZsYcjRtjSi"
      },
      "source": [
        "## Now the GLCM features of each texture and its labels has been segregated##\n",
        "## Now will use Logistic Regression ##\n",
        "lt=LogisticRegression()\n",
        "model = lt.fit(features.reshape(1,-1),labels)"
      ],
      "execution_count": null,
      "outputs": []
    },
    {
      "cell_type": "markdown",
      "metadata": {
        "id": "DRg41KjtyEIz"
      },
      "source": [
        "# **## Now we have Got a Model using Traing Textures using Haralick Features and Labelling Them ##**\n",
        "\n",
        "# **## Now we need to test the Model using the Testing Textures ###**"
      ]
    },
    {
      "cell_type": "markdown",
      "metadata": {
        "id": "b-HuYKDhypcs"
      },
      "source": [
        "## Now we need to again Load the Testing Folder for testing fo the Model ##"
      ]
    },
    {
      "cell_type": "code",
      "metadata": {
        "id": "0rrWiap1zQSu"
      },
      "source": [
        "##Loading the images from the Testing Folder and selecting only .png\" ##\n",
        "for TestimagePath in glob.glob(\"/content/Testing\" + \"/*.png\"):\n",
        "  Testimage = cv2.imread(TestimagePath)\n",
        "  ## Converting the image to Grayscale ##\n",
        "  Gray = cv2.cvtColor(Testimage,cv2.COLOR_BGR2GRAY)\n",
        "  ## Now extracting the Texture Feature using Mahatos package and taking the mean ##\n",
        "  ## Getting the GLCM ##\n",
        "  TestFeature = mt.features.haralick(Gray).mean(axis=0)\n",
        "  # classify the test image\n",
        "\tpred = model.predict(features.reshape(1, -1))[0]\n",
        "\tcv2.putText(image, pred, (20, 30), cv2.FONT_HERSHEY_SIMPLEX, 1.0,\n",
        "\t\t(0, 255, 0), 3)\n",
        "\n",
        "\t# show the output image\n",
        "\tcv2_imshow(image)"
      ],
      "execution_count": null,
      "outputs": []
    }
  ]
}